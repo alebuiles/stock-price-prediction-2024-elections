{
 "cells": [
  {
   "cell_type": "code",
   "execution_count": 15,
   "metadata": {},
   "outputs": [],
   "source": [
    "import pandas as pd\n",
    "\n",
    "apld_news_sentiment = pd.read_csv('../data/unprocessed data/APLD_news_sentiment.csv')\n",
    "cney_news_sentiment = pd.read_csv('../data/unprocessed data/CNEY_news_sentiment.csv')\n",
    "combined_stock_data = pd.read_csv('../data/unprocessed data/combined_stock_data.csv')\n",
    "ktta_news_sentiment = pd.read_csv('../data/unprocessed data/KTTA_news_sentiment.csv')\n",
    "onco_news_sentiment = pd.read_csv('../data/unprocessed data/ONCO_news_sentiment.csv')\n",
    "tnxp_news_sentiment = pd.read_csv('../data/unprocessed data/TNXP_news_sentiment.csv')"
   ]
  },
  {
   "cell_type": "code",
   "execution_count": 18,
   "metadata": {},
   "outputs": [
    {
     "name": "stdout",
     "output_type": "stream",
     "text": [
      "                   Date  APLD_Close  APLD_Volume  \\\n",
      "247 2024-09-25 04:00:00        7.67     19647800   \n",
      "246 2024-09-24 04:00:00        7.08     15410200   \n",
      "245 2024-09-23 04:00:00        6.70     15381500   \n",
      "244 2024-09-20 04:00:00        6.02     17700800   \n",
      "243 2024-09-19 04:00:00        5.56     16552600   \n",
      "\n",
      "                                                 Title  \\\n",
      "247  CORZ, WULF and APLD Stocks Set to Boom? Thank ...   \n",
      "246  Applied Digital Sets Fiscal First Quarter 2025...   \n",
      "245  Applied Announces New Innovation Across Its Di...   \n",
      "244  Applied Announces New Innovation Across Its Di...   \n",
      "243  Applied Announces New Innovation Across Its Di...   \n",
      "\n",
      "                                               Summary  Sentiment  \\\n",
      "247  Data centers, AI, and Bitcoin mining are three...   0.000000   \n",
      "246  DALLAS, Sept. 23, 2024 ( GLOBE NEWSWIRE ) -- A...   0.000000   \n",
      "245  Chicago, IL., Sept. 11, 2024 ( GLOBE NEWSWIRE ...   0.083333   \n",
      "244  Chicago, IL., Sept. 11, 2024 ( GLOBE NEWSWIRE ...   0.125000   \n",
      "243  Chicago, IL., Sept. 11, 2024 ( GLOBE NEWSWIRE ...   0.150000   \n",
      "\n",
      "         Date Published  \n",
      "247 2024-09-24 14:04:00  \n",
      "246 2024-09-23 12:00:00  \n",
      "245 2024-09-11 16:00:00  \n",
      "244 2024-09-11 16:00:00  \n",
      "243 2024-09-11 16:00:00  \n"
     ]
    }
   ],
   "source": [
    "apld_news_sentiment['Date Published'] = pd.to_datetime(apld_news_sentiment['Date Published'], format='%Y%m%dT%H%M%S')\n",
    "cney_news_sentiment['Date Published'] = pd.to_datetime(cney_news_sentiment['Date Published'], format='%Y%m%dT%H%M%S')\n",
    "ktta_news_sentiment['Date Published'] = pd.to_datetime(ktta_news_sentiment['Date Published'], format='%Y%m%dT%H%M%S')\n",
    "onco_news_sentiment['Date Published'] = pd.to_datetime(onco_news_sentiment['Date Published'], format='%Y%m%dT%H%M%S')\n",
    "tnxp_news_sentiment['Date Published'] = pd.to_datetime(tnxp_news_sentiment['Date Published'], format='%Y%m%dT%H%M%S')\n",
    "\n",
    "# Convert 'Date' column in the combined stock data to datetime and remove timezone info\n",
    "combined_stock_data['Date'] = pd.to_datetime(combined_stock_data['Date'], utc=True).dt.tz_convert(None)\n",
    "\n",
    "def preprocess_and_fill(stock_data, sentiment_data, stock_name):\n",
    "    stock_filtered = stock_data[['Date', f'{stock_name}_Close', f'{stock_name}_Volume']].copy()\n",
    "    \n",
    "    # Merge the sentiment data with the filtered stock data\n",
    "    merged_data = pd.merge_asof(stock_filtered.sort_values('Date'),\n",
    "                                sentiment_data.sort_values('Date Published'),\n",
    "                                left_on='Date', right_on='Date Published',\n",
    "                                direction='backward')\n",
    "    \n",
    "    # Sort by date in descending order and forward fill missing sentiment values\n",
    "    merged_data = merged_data.sort_values(by='Date', ascending=False)\n",
    "    merged_data['Sentiment'] = merged_data['Sentiment'].ffill().bfill().fillna(0)  # Forward, backward fill and neutral sentiment imputation\n",
    "    \n",
    "    # Apply a rolling average (7-day window) to smooth out sentiment data\n",
    "    merged_data['Sentiment'] = merged_data['Sentiment'].rolling(window=7, min_periods=1).mean()\n",
    "    \n",
    "    return merged_data\n",
    "\n",
    "# Apply the function to datasets\n",
    "apld_merged = preprocess_and_fill(combined_stock_data, apld_news_sentiment, 'APLD')\n",
    "cney_merged = preprocess_and_fill(combined_stock_data, cney_news_sentiment, 'CNEY')\n",
    "ktta_merged = preprocess_and_fill(combined_stock_data, ktta_news_sentiment, 'KTTA')\n",
    "onco_merged = preprocess_and_fill(combined_stock_data, onco_news_sentiment, 'ONCO')\n",
    "tnxp_merged = preprocess_and_fill(combined_stock_data, tnxp_news_sentiment, 'TNXP')\n",
    "\n",
    "# Save processed data\n",
    "apld_merged.to_csv('../data/processed data/APLD_merged.csv', index=False)\n",
    "cney_merged.to_csv('../data/processed data/CNEY_merged.csv', index=False)\n",
    "ktta_merged.to_csv('../data/processed data/KTTA_merged.csv', index=False)\n",
    "onco_merged.to_csv('../data/processed data/ONCO_merged.csv', index=False)\n",
    "tnxp_merged.to_csv('../data/processed data/TNXP_merged.csv', index=False)"
   ]
  }
 ],
 "metadata": {
  "kernelspec": {
   "display_name": "Python 3",
   "language": "python",
   "name": "python3"
  },
  "language_info": {
   "codemirror_mode": {
    "name": "ipython",
    "version": 3
   },
   "file_extension": ".py",
   "mimetype": "text/x-python",
   "name": "python",
   "nbconvert_exporter": "python",
   "pygments_lexer": "ipython3",
   "version": "3.11.4"
  }
 },
 "nbformat": 4,
 "nbformat_minor": 2
}
